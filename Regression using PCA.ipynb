{
 "cells": [
  {
   "cell_type": "code",
   "execution_count": null,
   "metadata": {},
   "outputs": [],
   "source": [
    "import pandas as pd\n",
    "import numpy as np\n",
    "data = pd.read_csv(\"/home/stark/Downloads/cs_ass1/x1234y.csv\")\n",
    "input1 = np.array(data)\n",
    "input1[:,0] = 1\n",
    "ytest,ytrain = input1[:100:,5],input1[100:,5]\n",
    "xtest,xtrain = input1[:100,0:5],input1[100:,0:5]"
   ]
  },
  {
   "cell_type": "code",
   "execution_count": null,
   "metadata": {},
   "outputs": [],
   "source": [
    "from numpy.linalg import inv\n",
    "a = (xtrain.T).dot(xtrain)\n",
    "ainv = inv(a)\n",
    "a1 = ainv.dot(xtrain.T)\n",
    "b = a1.dot(ytrain)\n",
    "ycap = xtest.dot(b)"
   ]
  },
  {
   "cell_type": "code",
   "execution_count": null,
   "metadata": {},
   "outputs": [],
   "source": [
    "import matplotlib.pyplot as plt\n",
    "%matplotlib inline\n",
    "plt.subplot(3, 1, 1)\n",
    "plt.title('Actual y')\n",
    "plt.xlabel('x')\n",
    "plt.subplot(3, 1, 1)\n",
    "plt.plot(ytest, 'o', label='actual y')\n",
    "plt.plot(ycap, 'o', label='predicted y')\n",
    "plt.subplot(3, 1, 1)\n",
    "plt.legend(loc='upper center', ncol=4)\n",
    "plt.gcf().set_size_inches(10, 10)\n",
    "plt.show()\n",
    "print(np.sqrt(np.mean((ytest-ycap)**2)))"
   ]
  },
  {
   "cell_type": "code",
   "execution_count": null,
   "metadata": {},
   "outputs": [],
   "source": [
    "U, s, V = np.linalg.svd(xtrain, full_matrices=True)\n",
    "S = np.zeros(xtrain.shape)\n",
    "S[:5,:5] = np.diag(s)\n",
    "print(s[0]/s[1],s[0]/s[2],s[0]/s[3],s[0]/s[4])\n",
    "print(s[0]/np.sum(s))\n",
    "print((s[0]+s[1])/np.sum(s))\n",
    "print((s[0]+s[1]+s[2])/np.sum(s))\n",
    "print((s[0]+s[1]+s[2]+s[3])/np.sum(s))\n",
    "print((s[0]+s[1]+s[2]+s[3]+s[4])/np.sum(s))"
   ]
  },
  {
   "cell_type": "code",
   "execution_count": null,
   "metadata": {},
   "outputs": [],
   "source": [
    "U1 = U[:,:60] \n",
    "S1 = S[:60,:3] \n",
    "V1 = V[:3,:]\n",
    "U2 = U[:,60:] \n",
    "S2 = S[60:,3:] \n",
    "V2 = V[3:,:]\n",
    "usefull = np.dot(U1,np.dot(S1,V1))\n",
    "noise = np.dot(U2,np.dot(S2,V2))\n",
    "w = np.dot(xtrain,V1.T)\n",
    "r1 = np.dot(w.T,w)\n",
    "r2 = inv(r1)\n",
    "r3 = np.dot(r2,w.T)\n",
    "r = np.dot(r3,ytrain)\n",
    "bnew = np.dot(V1.T,r)\n",
    "ycap1 = np.dot(xtest,bnew)\n",
    "print(np.sqrt(np.mean((ytest-ycap1)**2)))"
   ]
  },
  {
   "cell_type": "code",
   "execution_count": null,
   "metadata": {},
   "outputs": [],
   "source": [
    "import matplotlib.pyplot as plt\n",
    "%matplotlib inline\n",
    "plt.subplot(3, 1, 1)\n",
    "plt.title('Actual y')\n",
    "plt.xlabel('x')\n",
    "plt.subplot(3, 1, 1)\n",
    "plt.plot(ytest, 'o', label='actual y')\n",
    "plt.plot(ycap1, 'o', label='predicted y')\n",
    "plt.subplot(3, 1, 1)\n",
    "plt.legend(loc='upper center', ncol=4)\n",
    "plt.gcf().set_size_inches(10, 10)\n",
    "plt.show()"
   ]
  }
 ],
 "metadata": {
  "kernelspec": {
   "display_name": "Python 2",
   "language": "python",
   "name": "python2"
  },
  "language_info": {
   "codemirror_mode": {
    "name": "ipython",
    "version": 2
   },
   "file_extension": ".py",
   "mimetype": "text/x-python",
   "name": "python",
   "nbconvert_exporter": "python",
   "pygments_lexer": "ipython2",
   "version": "2.7.12"
  }
 },
 "nbformat": 4,
 "nbformat_minor": 2
}
